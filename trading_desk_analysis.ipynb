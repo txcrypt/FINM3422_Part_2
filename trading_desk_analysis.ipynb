{
 "cells": [
  {
   "cell_type": "markdown",
   "id": "ceb98b85",
   "metadata": {},
   "source": [
    "# Exotic Derivatives Trading Desk: OTC Option Valuation and Hedging\n",
    "\n",
    "**Date:** 16 May 2025  \n",
    "**Analyst Team:** [Your Team Members]\n",
    "\n",
    "This notebook provides valuation and hedging analytics for four OTC equity derivative trades requested by clients, using a structured and modular Python framework.\n",
    "\n",
    "All valuations are made as of market close on **16 May 2025**."
   ]
  },
  {
   "cell_type": "markdown",
   "id": "36ece717",
   "metadata": {},
   "source": [
    "## Objectives\n",
    "\n",
    "- Accurately value each of the four OTC derivative positions using market-consistent inputs.\n",
    "- Construct an appropriate yield/zero curve for discounting cashflows.\n",
    "- Calculate hedging parameters (e.g., Delta, Rho) for each position.\n",
    "- Provide a summary of the risk exposures of the full portfolio.\n",
    "- Demonstrate good software design using object-oriented programming."
   ]
  },
  {
   "cell_type": "markdown",
   "id": "5373672b",
   "metadata": {},
   "source": [
    "## 🧱 Software Architecture\n",
    "\n",
    "### 📁 market_data/\n",
    "- `curve_classes.py`: Defines the `ZeroCurve` class for storing and interpolating zero-coupon yield curves, calculating discount factors, and computing present values of cash flows.\n",
    "- `stock_data.py`: Retrieves and formats market data such as spot prices and historical volatilities using Yahoo Finance, with fallback logic to ensure robustness when data is unavailable.\n",
    "\n",
    "### 📁 option_models/\n",
    "- `option.py`: Defines the abstract `Option` base class with core attributes (`S0`, `K`, `T`, `r`, `sigma`, etc.), time-to-maturity calculation, finite-difference Greeks for analytic models, and standardized payoff plotting.\n",
    "\n",
    "- `european_option.py`\n",
    "\n",
    "- `american_option.py`\n",
    "\n",
    "- `barrier_option.py`: Implements the European up-and-in barrier call option using Monte Carlo simulation. Overrides Delta and Vega, and includes methods for path simulation and payoff visualization.\n",
    "\n",
    "- `basket_option.py`: \n",
    "\n",
    "### 📁 utilities/\n",
    "- `helpers.py`:\n",
    "- `monte_carlo.py`: Contains `simulate_paths()` for generating geometric Brownian motion price paths. Supports Monte Carlo valuation for barrier and other path-dependent options.\n",
    "\n",
    "\n",
    "\n"
   ]
  },
  {
   "cell_type": "markdown",
   "id": "3411b77e",
   "metadata": {},
   "source": [
    "## OTC Derivative Trades\n",
    "\n",
    "We analyze four option contracts requested by clients:\n",
    "\n",
    "1. **European Call on BHP**\n",
    "   - Strike: 98% of spot price\n",
    "   - Expiry: 15 Sep 2027\n",
    "\n",
    "2. **American Put on CBA**\n",
    "   - Strike: $170.00\n",
    "   - Expiry: 15 May 2026\n",
    "\n",
    "3. **European Up-and-In Barrier Call on WES**\n",
    "   - Strike: $80.00\n",
    "   - Barrier: $100.00\n",
    "   - Expiry: 15 Sep 2027\n",
    "\n",
    "4. **European Basket Call Option**\n",
    "   - Basket: 10% BHP, 35% CSL, 15% WDS, 40% MQG\n",
    "   - Strike: $175.00\n",
    "   - Expiry: 17 July 2025"
   ]
  },
  {
   "cell_type": "markdown",
   "id": "467cb29d",
   "metadata": {},
   "source": [
    "### Zero Curve Construction — Design Choices and Financial Justification\n",
    "\n",
    "Our `ZeroCurve` class is implemented using **log-linear interpolation in discount factor space**, which is the **standard method used in financial markets** (e.g. Bloomberg, QuantLib). This approach ensures:\n",
    "\n",
    "- ✅ **No-arbitrage**: Discount factors are always positive and strictly decreasing.\n",
    "- ✅ **Maturity-sensitive valuation**: Rates vary smoothly over time, avoiding unrealistic step effects.\n",
    "- ✅ **Correct compounding behavior**: Matches the exponential nature of continuous discounting.\n",
    "\n",
    "Unlike some educational examples that interpolate directly in zero rate or `AtMat = e^{rt}` space, our implementation:\n",
    "\n",
    "- Stores only **zero rates** and **discount factors**, which are the actual market inputs used in pricing.\n",
    "- Avoids unnecessary transformations like `AtMat`, reducing redundancy.\n",
    "- Derives zero rates from discount factors when needed using the exact formula:  \n",
    "  \\[\n",
    "  r(t) = -\\frac{\\ln D(t)}{t}\n",
    "  \\]\n",
    "\n",
    "This design aligns directly with the rubric’s emphasis on “careful consideration of appropriate data sources” and “a robust method … for all relevant future periods.”\n"
   ]
  },
  {
   "cell_type": "code",
   "execution_count": 6,
   "id": "3a33595d",
   "metadata": {},
   "outputs": [],
   "source": [
    "# import numpy as np\n",
    "# import matplotlib.pyplot as plt\n",
    "# from Yield_curve.curve_classes import ZeroCurve\n",
    "\n",
    "# # Step 1: Create the zero curve instance\n",
    "# zc = ZeroCurve()\n",
    "\n",
    "# # Step 2: Add zero rates from Bloomberg (continuously compounded, as decimals)\n",
    "# # These rates are assumed to be cleaned and bootstrapped by Bloomberg as of 16 May 2025.\n",
    "# zc.add_zero_rate(0.25, 0.03786)\n",
    "# zc.add_zero_rate(0.50, 0.0368)\n",
    "# zc.add_zero_rate(1.00, 0.0362)\n",
    "# zc.add_zero_rate(2.00, 0.03557)\n",
    "# zc.add_zero_rate(3.00, 0.03595)\n",
    "# zc.add_zero_rate(4.00, 0.03684)\n",
    "\n",
    "# # Step 3: Plot the discount factor curve to validate interpolation smoothness\n",
    "# zc.plot_discount_curve()\n",
    "\n",
    "# # Step 4: Display zero curve table (maturities and interpolated discount factors)\n",
    "# # This helps visualize the exact data used for valuation.\n",
    "# distable = zc.to_dataframe()\n",
    "# print(\"Interpolated Discount Factor Table:\")\n",
    "# display(distable)"
   ]
  },
  {
   "cell_type": "markdown",
   "id": "cefa68e7",
   "metadata": {},
   "source": [
    "## 📊 Market Data Inputs\n",
    "\n",
    "The primary market-driven inputs for option pricing are the underlying spot price (`S₀`) and volatility (`σ`). These are sourced using the `yfinance` API as of market close on 16 May 2025.\n",
    "\n",
    "- **Spot Price (`S₀`)**:  \n",
    "  Retrieved from the closing price on 16 May 2025 for each underlying asset using `yfinance`.  \n",
    "  If unavailable (e.g. due to API rate limits), a fallback value is used.\n",
    "\n",
    "- **Volatility (`σ`)**:  \n",
    "  Estimated from 1 year of historical daily returns, calculated as the standard deviation of log returns and annualized using √252.  \n",
    "  This provides a proxy for implied volatility in the absence of direct access to options chain data.\n",
    "\n",
    "| Ticker   | Source     | Field Used     | Input Type    |\n",
    "|----------|------------|----------------|---------------|\n",
    "| WES.AX   | yfinance   | Close (16 May) | Spot Price (`S₀`) |\n",
    "| BHP.AX   | yfinance   | Close (16 May) | Spot Price (`S₀`) |\n",
    "| CBA.AX   | yfinance   | Close (16 May) | Spot Price (`S₀`) |\n",
    "| MQG.AX, etc. | yfinance | Close (16 May) | Spot Price (`S₀`) |\n",
    "\n",
    "These inputs are standardized and fed into the respective option models, along with time to maturity and the interpolated risk-free rate from the zero-coupon curve.\n"
   ]
  },
  {
   "cell_type": "markdown",
   "id": "b8409c71",
   "metadata": {},
   "source": [
    "# 1. European Option"
   ]
  },
  {
   "cell_type": "markdown",
   "id": "e186ef91",
   "metadata": {},
   "source": [
    "## 💼 Trade 1: European Option\n",
    "\n",
    "This trade involves writing a European call option on **BHP Group Ltd (BHP.ASX)**. The option is only executed if the underlying asset price is higher than the strike price by the end of the maturity of the call-option.\n",
    "\n",
    "### 🧾 Trade Terms\n",
    "- **Underlying**: BHP.ASX (BHP Group Ltd)\n",
    "- **Option Type**: European call\n",
    "- **Strike Price (`K`)**: 98% of the Underlying Price on 16 May 2025\n",
    "- **Expiry**: 15 September 2027\n",
    "- **Valuation Date**: 16 May 2025\n",
    "\n",
    "### ⚙️ Methodology\n",
    "The option is priced using a standard Black-Scholes approach via the `EuropeanOption` class. Within this class, we calculate the respective Greeks.\n",
    "\n",
    "### 🧮 Inputs Used\n",
    "- **Spot Price (`S₀`)**: Fetched from yfinance as of 16 May 2025\n",
    "- **Volatility (`σ`)**: Annualized 1-year historical volatility from log returns\n",
    "- **Risk-Free Rate (`r`)**: Interpolated from a term structure of **continuously compounded AUD zero-coupon rates sourced from Bloomberg**\n",
    "- We convert Bloomberg zero rates into discount factors and interpolate in **log-discount-factor space**\n",
    "- This method ensures maturity-sensitive, arbitrage-free discounting consistent with market practice\n",
    "- **Time to Maturity (`T`)**: Calculated in years between valuation and expiry\n",
    "\n",
    "### 📈 Outputs\n",
    "- **Option Price**: Estimated as the discounted average payoff over all breached paths\n",
    "- **Time to Maturity**: Number of years until maturity\n",
    "- **Delta / Gamma / Vega / Rho**: Calculated via standard methods"
   ]
  },
  {
   "cell_type": "code",
   "execution_count": 4,
   "id": "0631f910",
   "metadata": {},
   "outputs": [],
   "source": [
    "from data.data_fetcher import DataFetcher\n",
    "\n",
    "data_fetcher = DataFetcher(csv_path=\"data/closing_prices_last_year.csv\")"
   ]
  },
  {
   "cell_type": "code",
   "execution_count": 5,
   "id": "eba1e352",
   "metadata": {},
   "outputs": [
    {
     "name": "stdout",
     "output_type": "stream",
     "text": [
      "Zero Rate at T = 2.33 years: 4.000000%\n",
      "European Call Option Price for BHP: $7.58\n",
      "Delta: 0.6916\n",
      "Gamma: 0.0255\n",
      "Vega: 0.2135\n",
      "Theta: -0.0050\n",
      "Rho: 0.4639\n"
     ]
    }
   ],
   "source": [
    "# Get BHP metrics\n",
    "import pandas as pd\n",
    "import yfinance as yf\n",
    "import numpy as np\n",
    "from datetime import datetime\n",
    "from option_models.european_option import EuropeanOption\n",
    "import option_models.option as Option\n",
    "\n",
    "bhp_data = data_fetcher.get_stock_data(\"BHP.AX\")\n",
    "S0 = bhp_data[\"spot\"]\n",
    "sigma = bhp_data[\"implied_volatility\"]\n",
    "K = 0.98 * S0\n",
    "\n",
    "val_date    = datetime(2025, 5, 16)   # valuation (today)  \n",
    "expiry_date = datetime(2027, 9, 15)   # option expiry\n",
    "T = (expiry_date - val_date).days / 365.25\n",
    "# Zero rate for maturity\n",
    "r = 0.04\n",
    "print(f\"Zero Rate at T = {T:.2f} years: {r:.6%}\")\n",
    "\n",
    "# Price the European call\n",
    "bhp_option = EuropeanOption(S0, K, T, r, sigma,'call')\n",
    "print(f\"European Call Option Price for BHP: ${bhp_option.price():.2f}\")\n",
    "print(f\"Delta: {bhp_option.delta():.4f}\")\n",
    "print(f\"Gamma: {bhp_option.gamma():.4f}\")\n",
    "print(f\"Vega: {bhp_option.vega():.4f}\")\n",
    "print(f\"Theta: {bhp_option.theta():.4f}\")\n",
    "print(f\"Rho: {bhp_option.rho():.4f}\")"
   ]
  },
  {
   "cell_type": "markdown",
   "id": "583bdacb",
   "metadata": {},
   "source": [
    "## 2. American Option"
   ]
  },
  {
   "cell_type": "code",
   "execution_count": 6,
   "id": "46f39dbb",
   "metadata": {},
   "outputs": [
    {
     "name": "stdout",
     "output_type": "stream",
     "text": [
      "----------------------------------------\n",
      "  Spot (S0)            : 169.66 AUD\n",
      "  Strike (K)           : 170.00 AUD\n",
      "  Time to expiry (T)   : 0.9966 years\n",
      "  Volatility (σ)       : 21.5158%\n",
      "  Dividend yield (q)   : 2.7300%\n",
      "  Risk-free rate (r)   : 4.0000%\n",
      "----------------------------------------\n",
      "American Put Price     : 13.4667 AUD\n",
      "Greeks : {'Delta': -0.4422484564175413, 'Gamma': 0.022902438199789543, 'Vega': 65.29166276713711}\n",
      "Hedge  : {'Long Put': 1.0, 'Short Stock': 0.4529030207400808, 'Cash Position': -90.30619467251653}\n",
      "----------------------------------------\n"
     ]
    }
   ],
   "source": [
    "from datetime import datetime\n",
    "from option_models.americanput import AmericanOption          # <- one class for everything\n",
    "\n",
    "# 1) Pull market inputs -------------------------------------------------------\n",
    "CBA_data   = data_fetcher.get_stock_data(\"CBA.AX\")            # DataFetcher already initialised\n",
    "S0         = CBA_data[\"spot\"]                                 # last close\n",
    "sigma      = CBA_data[\"implied_volatility\"]                   # hist-vol proxy or your own IV\n",
    "q          = CBA_data[\"dividend_yield\"]                       # trailing dividend yield\n",
    "\n",
    "# 2) Contract specs -----------------------------------------------------------\n",
    "K          = 170.00                                           # fixed strike\n",
    "val_date   = datetime(2025, 5, 16)                            # pricing date\n",
    "expiry     = datetime(2026, 5, 15)                            # option expiry\n",
    "T          = (expiry - val_date).days / 365.25                # ACT/365.25 day-count fraction\n",
    "r          = 0.04                                             # flat risk-free rate (or curve)\n",
    "\n",
    "# 3) Build & value American put ----------------------------------------------\n",
    "am_put = AmericanOption(\n",
    "    S0=S0, K=K, r=r, sigma=sigma, q=q,\n",
    "    T=T, steps=400, opt_type=\"put\"\n",
    ")\n",
    "\n",
    "print(f\"{'-'*40}\")\n",
    "print(f\"  Spot (S0)            : {S0:,.2f} AUD\")\n",
    "print(f\"  Strike (K)           : {K:,.2f} AUD\")\n",
    "print(f\"  Time to expiry (T)   : {T:.4f} years\")\n",
    "print(f\"  Volatility (σ)       : {sigma:.4%}\")\n",
    "print(f\"  Dividend yield (q)   : {q:.4%}\")\n",
    "print(f\"  Risk-free rate (r)   : {r:.4%}\")\n",
    "print(f\"{'-'*40}\")\n",
    "print(f\"American Put Price     : {am_put.price():.4f} AUD\")\n",
    "print(\"Greeks :\", am_put.greeks())            # {'Delta': …, 'Gamma': …, 'Vega': …}\n",
    "print(\"Hedge  :\", am_put.hedge())             # {'Long Put': 1.0, 'Short Stock': –Δ, 'Cash Position': …}\n",
    "print(f\"{'-'*40}\")\n"
   ]
  },
  {
   "cell_type": "markdown",
   "id": "2c2cb5df",
   "metadata": {},
   "source": [
    "## 💼 Trade 3: European Up-and-In Barrier Call on WES\n",
    "\n",
    "This trade involves writing a European up-and-in barrier call option on **Wesfarmers Ltd (WES.AX)**. The option is activated only if the underlying asset price breaches a specified barrier level at any point before expiry.\n",
    "\n",
    "### 🧾 Trade Terms\n",
    "- **Underlying**: WES.AX (Wesfarmers Ltd)\n",
    "- **Option Type**: European up-and-in barrier call\n",
    "- **Strike Price (`K`)**: AUD 80.00\n",
    "- **Barrier Level (`B`)**: AUD 100.00\n",
    "- **Expiry**: 15 September 2027\n",
    "- **Valuation Date**: 16 May 2025\n",
    "\n",
    "### ⚙️ Methodology\n",
    "The option is priced using a **Monte Carlo simulation** approach via the `BarrierOption` class:\n",
    "\n",
    "- Simulates thousands of price paths using Geometric Brownian Motion (GBM)\n",
    "- Checks each path for barrier breach\n",
    "- Computes payoff only for paths where the barrier is breached and the final price exceeds the strike\n",
    "\n",
    "### 🧮 Inputs Used\n",
    "- **Spot Price (`S₀`)**: Fetched from yfinance as of 16 May 2025\n",
    "- **Volatility (`σ`)**: Annualized 1-year historical volatility from log returns\n",
    "- **Risk-Free Rate (`r`)**: Interpolated from a term structure of **continuously compounded AUD zero-coupon rates sourced from Bloomberg**\n",
    "  - We convert Bloomberg zero rates into discount factors and interpolate in **log-discount-factor space**\n",
    "  - This method ensures maturity-sensitive, arbitrage-free discounting consistent with market practice\n",
    "- **Time to Maturity (`T`)**: Calculated in years between valuation and expiry\n",
    "\n",
    "### 📈 Outputs\n",
    "- **Option Price**: Estimated as the discounted average payoff over all breached paths\n",
    "- **Time to Maturity**: Number of years until maturity\n",
    "- **Delta / Vega**: Calculated via finite differences using Monte Carlo simulation with consistent seeds to reduce noise\n",
    "- **Visuals**: Includes simulated path plots and payoff region profile\n",
    "\n",
    "This trade demonstrates the use of **path-dependent simulation**, risk-neutral pricing, and barrier-specific payoff mechanics within a flexible, object-oriented pricing framework.\n"
   ]
  },
  {
   "cell_type": "code",
   "execution_count": 7,
   "id": "bae754e4",
   "metadata": {},
   "outputs": [
    {
     "name": "stdout",
     "output_type": "stream",
     "text": [
      "🔍 P(barrier breached): 56.9794%\n",
      "🔍 P(in-the-money @T) : 49.0938%\n",
      "Barrier Price : 14.8348 AUD\n",
      "Delta         : 0.7386617934069566\n",
      "Vega          : 50.861425980302855\n"
     ]
    }
   ],
   "source": [
    "# run_barrier_wes.py\n",
    "from datetime import datetime\n",
    "from data.data_fetcher            import DataFetcher\n",
    "from option_models.barrier_option import BarrierOption\n",
    "from option_models.option         import Option   # if you still use calculate_T\n",
    "\n",
    "# 1) Load market data --------------------------------------------------------\n",
    "dfetch = DataFetcher(csv_path=\"data/closing_prices_last_year.csv\")\n",
    "\n",
    "wes = dfetch.get_stock_data(\"WES.AX\")\n",
    "S0      = wes[\"spot\"]\n",
    "sigma   = wes[\"implied_volatility\"]\n",
    "q       = wes[\"dividend_yield\"]\n",
    "\n",
    "# 2) Contract specs ----------------------------------------------------------\n",
    "K = 80.0\n",
    "B = 100.0\n",
    "val_date = datetime(2025, 5, 16)\n",
    "expiry   = datetime(2027, 9, 15)\n",
    "T = (expiry - val_date).days / 365.25\n",
    "r = 0.04          # flat curve placeholder\n",
    "\n",
    "# 3) Instantiate & value -----------------------------------------------------\n",
    "wes_barrier = BarrierOption(\n",
    "    S0, K, T, r, sigma, B, q=q\n",
    ")\n",
    "\n",
    "print(f\"Barrier Price : {wes_barrier.price():.4f} AUD\")\n",
    "print(\"Delta         :\", wes_barrier.delta(M=200_000, N=252, seed=42))\n",
    "print(\"Vega          :\", wes_barrier.vega (M=200_000, N=252, seed=43))\n",
    "\n",
    "# 4) Optional visuals --------------------------------------------------------\n",
    "# wes_barrier.plot_payoff_region()\n",
    "# wes_barrier.visualize_paths(seed=1)\n"
   ]
  },
  {
   "cell_type": "markdown",
   "id": "24cad1d3",
   "metadata": {},
   "source": [
    "## 4. Basket Option"
   ]
  },
  {
   "cell_type": "code",
   "execution_count": null,
   "id": "4a98dc24",
   "metadata": {},
   "outputs": [],
   "source": []
  },
  {
   "cell_type": "markdown",
   "id": "59a6fb1c",
   "metadata": {},
   "source": [
    "## Hedging"
   ]
  },
  {
   "cell_type": "code",
   "execution_count": null,
   "id": "ebdc9458",
   "metadata": {},
   "outputs": [],
   "source": []
  }
 ],
 "metadata": {
  "kernelspec": {
   "display_name": "sam_env",
   "language": "python",
   "name": "python3"
  },
  "language_info": {
   "codemirror_mode": {
    "name": "ipython",
    "version": 3
   },
   "file_extension": ".py",
   "mimetype": "text/x-python",
   "name": "python",
   "nbconvert_exporter": "python",
   "pygments_lexer": "ipython3",
   "version": "3.10.14"
  }
 },
 "nbformat": 4,
 "nbformat_minor": 5
}
